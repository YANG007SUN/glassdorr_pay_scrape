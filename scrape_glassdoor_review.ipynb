{
 "cells": [
  {
   "cell_type": "code",
   "execution_count": 272,
   "metadata": {},
   "outputs": [],
   "source": [
    "# import packages\n",
    "from bs4 import BeautifulSoup as bs\n",
    "from splinter import Browser\n",
    "import time\n",
    "from config import username, password\n",
    "import datetime\n",
    "import pandas as pd\n",
    "import time\n",
    "import requests\n",
    "from webdriver_manager.chrome import ChromeDriverManager\n",
    "from collections import defaultdict\n",
    "from datetime import datetime\n",
    "import pandas as pd"
   ]
  },
  {
   "cell_type": "code",
   "execution_count": 273,
   "metadata": {},
   "outputs": [],
   "source": [
    "def next_page():\n",
    "    \"\"\"click next page button\n",
    "    \"\"\"\n",
    "    browser.find_by_xpath('//button[@class=\"nextButton css-1hq9k8 e13qs2071\"]').click()\n",
    "    \n",
    "def total_page_num():\n",
    "    \"\"\"find total page number return a int\n",
    "    \"\"\"\n",
    "    page=soup.find_all('div',class_='paginationFooter')[0].text.split(' ')[-2]\n",
    "    try:\n",
    "        p=int(page.replace(',',''))\n",
    "    except:\n",
    "        p=int(page)\n",
    "\n",
    "    return p\n",
    "\n",
    "def expand_show_more():\n",
    "    \"\"\"expand continue reading section\n",
    "    \"\"\"\n",
    "    try:\n",
    "        browser.find_by_text('Continue reading').click()\n",
    "    except Exception:\n",
    "        pass\n",
    "\n",
    "def expand_show_more(sec):\n",
    "    \"\"\"expand continue reading section\n",
    "    \"\"\"\n",
    "    try:\n",
    "        sec.find_by_text('Continue reading').click()\n",
    "    except Exception:\n",
    "        pass\n",
    "\n",
    "\n",
    "def find_ratings(review):\n",
    "    \"\"\"find stars for each rating\n",
    "    \"\"\"\n",
    "    try:\n",
    "        stars=review.find('span',class_='ratingNumber mr-xsm').text   \n",
    "    except:\n",
    "        stars='none'\n",
    "    return stars\n",
    "\n",
    "def find_employee_status(review):\n",
    "    try:\n",
    "        status=review.find('span',class_='pt-xsm pt-md-0 css-1qxtz39 eg4psks0').text\n",
    "    except:\n",
    "        status='none'\n",
    "    return status\n",
    "\n",
    "def find_review_title(review):\n",
    "    try:\n",
    "        title=review.find('h2',class_='mb-xxsm mt-0 css-93svrw el6ke055').text\n",
    "    except:\n",
    "        title='none'\n",
    "    return title\n",
    "\n",
    "def find_review_date(review):\n",
    "    try:\n",
    "        review_date= datetime.strptime(review.find('span',class_='authorJobTitle middle common__EiReviewDetailsStyle__newGrey').\\\n",
    "            text.split('-')[0].strip(),'%b %d, %Y')\n",
    "    except:\n",
    "        review_date='none'\n",
    "    return review_date\n",
    "\n",
    "def find_employee_jobTitle(review):\n",
    "    try:\n",
    "        job_title= review.find('span',class_='authorJobTitle middle common__EiReviewDetailsStyle__newGrey').\\\n",
    "            text.split('-')[1].strip()\n",
    "    except:\n",
    "        job_title='none'\n",
    "    return job_title\n",
    "\n",
    "# NEDD TO UPDATE TO CAPTURE  X and -\n",
    "# def find_check(review_body):\n",
    "#     \"\"\"check to see if review (Recommend,CEO Approval, Business Outlook) is checked\n",
    "#        Return three elements \n",
    "#     \"\"\"\n",
    "#     res=[]\n",
    "#     for i in review_body:\n",
    "#         if i.find('circle') is None:\n",
    "#             res.append('check')\n",
    "#         else:\n",
    "#             res.append('uncheck')\n",
    "#     return res\n",
    "\n",
    "def find_pros(review):\n",
    "    \n",
    "#     expand_show_more()\n",
    "    try:\n",
    "        pros=review.find('p',text='Pros').find_parent('div').find('span').text\n",
    "    except:\n",
    "        pros='none'\n",
    "    return pros\n",
    "\n",
    "def find_cons(review):\n",
    "    \n",
    "#     expand_show_more()\n",
    "    try:\n",
    "        cons=review.find('p',text='Cons').find_parent('div').find('span').text\n",
    "    except:\n",
    "        cons='none'\n",
    "    return cons\n",
    "\n",
    "def find_advice_to_management(review):\n",
    "    \"\"\"return advice to management if any\n",
    "    \"\"\"\n",
    "#     expand_show_more()\n",
    "    try:\n",
    "        advise=review.find('p',text='Advice to Management').find_parent('div').find('span').text\n",
    "    except:\n",
    "        advise='none'\n",
    "    return advise"
   ]
  },
  {
   "cell_type": "code",
   "execution_count": 274,
   "metadata": {},
   "outputs": [],
   "source": [
    "# init browser\n",
    "executable_path = {'executable_path': '/Users/yangsun/Downloads/chromedriver 5'}\n",
    "browser = Browser('chrome', **executable_path, headless=False)"
   ]
  },
  {
   "cell_type": "code",
   "execution_count": 275,
   "metadata": {},
   "outputs": [],
   "source": [
    "# visit url\n",
    "login_url='https://www.glassdoor.com/profile/login_input.htm'\n",
    "browser.visit(login_url)"
   ]
  },
  {
   "cell_type": "code",
   "execution_count": 276,
   "metadata": {},
   "outputs": [],
   "source": [
    "# sign in\n",
    "browser.find_by_id('inlineUserEmail').fill(username)\n",
    "browser.find_by_id('inlineUserPassword').fill(password)\n",
    "browser.find_by_xpath('//button[@type=\"submit\"]').click()"
   ]
  },
  {
   "cell_type": "code",
   "execution_count": 277,
   "metadata": {},
   "outputs": [],
   "source": [
    "# go to new url\n",
    "url='https://www.glassdoor.com/Reviews/Panda-Express-Reviews-E5659.htm'\n",
    "browser.visit(url)"
   ]
  },
  {
   "cell_type": "code",
   "execution_count": 225,
   "metadata": {},
   "outputs": [],
   "source": [
    "# page html\n",
    "html=browser.html\n",
    "soup = bs(html, 'html.parser')\n"
   ]
  },
  {
   "cell_type": "code",
   "execution_count": 248,
   "metadata": {},
   "outputs": [
    {
     "data": {
      "text/plain": [
       "1"
      ]
     },
     "execution_count": 248,
     "metadata": {},
     "output_type": "execute_result"
    }
   ],
   "source": [
    "# for each review\n",
    "review=reviews[0]"
   ]
  },
  {
   "cell_type": "code",
   "execution_count": 215,
   "metadata": {},
   "outputs": [
    {
     "data": {
      "text/plain": [
       "\"Great pay and some flexibility. The wages increase over time and if you are willing to work and move up to management, they are very open and willing to train you. \\r\\n\\r\\nIf you are a student who is looking to finish a degree and is willing to work a physically demanding position for a higher base pay than working in fast food, this is a place for you. If you don't mind working in a fast paced environment and have to be meticulous about cleaning, this would be great for you.\""
      ]
     },
     "execution_count": 215,
     "metadata": {},
     "output_type": "execute_result"
    }
   ],
   "source": [
    "# employee_status=review.find('span',class_='pt-xsm pt-md-0 css-1qxtz39 eg4psks0').text\n",
    "# # review_title=review.find('h2',class_='mb-xxsm mt-0 css-93svrw el6ke055').text\n",
    "# review_date = datetime.strptime(review.find('span',class_='authorJobTitle middle common__EiReviewDetailsStyle__newGrey').\\\n",
    "#     text.split('-')[0].strip(),'%b %d, %Y')\n",
    "# job_title = review.find('span',class_='authorJobTitle middle common__EiReviewDetailsStyle__newGrey').\\\n",
    "#     text.split('-')[1].strip()\n",
    "\n",
    "# # find of recommend, ceo approval and business outlook is checked\n",
    "# review_body=reviews[0].find_all('div',class_='d-flex align-items-center mr-std')\n",
    "# check_review_body=find_check(review_body)\n",
    "# find_pros(review)\n",
    "# # review details\n",
    "# pros=review.find('p',text='Pros').find_parent('div').find('span').text\n",
    "# cons=review.find('p',text='Cons').find_parent('div').find('span').text\n",
    "# advice=find_advice_to_management(review)"
   ]
  },
  {
   "cell_type": "code",
   "execution_count": null,
   "metadata": {},
   "outputs": [],
   "source": [
    "# expand all continue reading\n",
    "sec=browser.find_by_css('ol')\n",
    "for _ in range(20):\n",
    "    expand_show_more(sec)\n",
    "reviews=soup.find_all('li',class_='noBorder empReview cf pb-0 mb-0')"
   ]
  },
  {
   "cell_type": "code",
   "execution_count": 256,
   "metadata": {},
   "outputs": [],
   "source": [
    "\n",
    "for review in reviews:\n",
    "    # append res\n",
    "    temp=[\n",
    "        find_review_title(review),\n",
    "        find_employee_status(review),\n",
    "        find_employee_jobTitle(review),\n",
    "        find_review_date(review),\n",
    "        find_pros(review),\n",
    "        find_cons(review),\n",
    "        find_advice_to_management(review),\n",
    "        find_ratings(review)\n",
    "    ]\n",
    "    # find of recommend, ceo approval and business outlook is checked\n",
    "#     review_body=reviews[0].find_all('div',class_='d-flex align-items-center mr-std')\n",
    "#     check_review_body=find_check(review_body)\n",
    "#     temp=temp+check_review_body\n",
    "    res.append(temp)\n",
    "df=pd.DataFrame(res,columns=['review_title','employee_status',\n",
    "                             'Job_title','review_date',\n",
    "                             'pros','cons',\n",
    "                             'advise','ratings'])"
   ]
  },
  {
   "cell_type": "code",
   "execution_count": 278,
   "metadata": {},
   "outputs": [
    {
     "name": "stdout",
     "output_type": "stream",
     "text": [
      "CPU times: user 28 s, sys: 1.76 s, total: 29.8 s\n",
      "Wall time: 5min 10s\n"
     ]
    }
   ],
   "source": [
    "%%time\n",
    "res=[]\n",
    "for _ in range(10):\n",
    "    # expand all continue reading\n",
    "    sec=browser.find_by_css('ol')\n",
    "    for _ in range(20):\n",
    "        expand_show_more(sec)\n",
    "        \n",
    "    html=browser.html\n",
    "    soup = bs(html, 'html.parser')\n",
    "    reviews=soup.find_all('li',class_='noBorder empReview cf pb-0 mb-0')\n",
    "    for review in reviews:\n",
    "        # append res\n",
    "        temp=[\n",
    "            find_review_title(review),\n",
    "            find_employee_status(review),\n",
    "            find_employee_jobTitle(review),\n",
    "            find_review_date(review),\n",
    "            find_pros(review),\n",
    "            find_cons(review),\n",
    "            find_advice_to_management(review),\n",
    "            find_ratings(review)\n",
    "        ]\n",
    "        # find of recommend, ceo approval and business outlook is checked\n",
    "    #     review_body=reviews[0].find_all('div',class_='d-flex align-items-center mr-std')\n",
    "    #     check_review_body=find_check(review_body)\n",
    "    #     temp=temp+check_review_body\n",
    "        res.append(temp)\n",
    "    next_page()\n",
    "    time.sleep(1)\n",
    "df=pd.DataFrame(res,columns=['review_title','employee_status',\n",
    "                             'Job_title','review_date',\n",
    "                             'pros','cons',\n",
    "                             'advise','ratings'])"
   ]
  },
  {
   "cell_type": "code",
   "execution_count": 280,
   "metadata": {},
   "outputs": [],
   "source": [
    "df.to_csv('glassdoor_review.csv')"
   ]
  },
  {
   "cell_type": "code",
   "execution_count": null,
   "metadata": {},
   "outputs": [],
   "source": []
  },
  {
   "cell_type": "code",
   "execution_count": 161,
   "metadata": {},
   "outputs": [],
   "source": [
    "# create for loop for current page data\n",
    "res=[]\n",
    "for review in reviews:\n",
    "\n",
    "    \n",
    "    # actual data from here \n",
    "    employee_status=review.find('span',class_='pt-xsm pt-md-0 css-1qxtz39 eg4psks0').text\n",
    "    review_title=review.find('h2',class_='mb-xxsm mt-0 css-93svrw el6ke055').text\n",
    "    stars=find_ratings(review)\n",
    "    review_date = datetime.strptime(review.find('span',class_='authorJobTitle middle common__EiReviewDetailsStyle__newGrey').\\\n",
    "        text.split('-')[0].strip(),'%b %d, %Y')\n",
    "    job_title = review.find('span',class_='authorJobTitle middle common__EiReviewDetailsStyle__newGrey').\\\n",
    "        text.split('-')[1].strip()\n",
    "\n",
    "    # find of recommend, ceo approval and business outlook is checked\n",
    "    review_body=review.find_all('div',class_='d-flex align-items-center mr-std')\n",
    "    check_review_body=find_check(review_body)\n",
    "\n",
    "    # review details\n",
    "    pros=review.find('p',text='Pros').find_parent('div').find('span').text\n",
    "    cons=review.find('p',text='Cons').find_parent('div').find('span').text\n",
    "    advice=find_advice_to_management(review)\n",
    "    res.append()"
   ]
  },
  {
   "cell_type": "code",
   "execution_count": 152,
   "metadata": {},
   "outputs": [
    {
     "data": {
      "text/plain": [
       "'listen to employees more about the times they can and cannot work'"
      ]
     },
     "execution_count": 152,
     "metadata": {},
     "output_type": "execute_result"
    }
   ],
   "source": []
  },
  {
   "cell_type": "code",
   "execution_count": 132,
   "metadata": {},
   "outputs": [],
   "source": []
  },
  {
   "cell_type": "code",
   "execution_count": 148,
   "metadata": {},
   "outputs": [],
   "source": [
    "expand_show_more()"
   ]
  },
  {
   "cell_type": "code",
   "execution_count": 130,
   "metadata": {},
   "outputs": [],
   "source": []
  },
  {
   "cell_type": "code",
   "execution_count": null,
   "metadata": {},
   "outputs": [],
   "source": []
  }
 ],
 "metadata": {
  "kernelspec": {
   "display_name": "Python 3",
   "language": "python",
   "name": "python3"
  },
  "language_info": {
   "codemirror_mode": {
    "name": "ipython",
    "version": 3
   },
   "file_extension": ".py",
   "mimetype": "text/x-python",
   "name": "python",
   "nbconvert_exporter": "python",
   "pygments_lexer": "ipython3",
   "version": "3.7.6"
  },
  "toc": {
   "base_numbering": 1,
   "nav_menu": {},
   "number_sections": true,
   "sideBar": true,
   "skip_h1_title": false,
   "title_cell": "Table of Contents",
   "title_sidebar": "Contents",
   "toc_cell": false,
   "toc_position": {},
   "toc_section_display": true,
   "toc_window_display": false
  }
 },
 "nbformat": 4,
 "nbformat_minor": 4
}
