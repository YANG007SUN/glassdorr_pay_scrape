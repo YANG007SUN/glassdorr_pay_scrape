{
 "cells": [
  {
   "cell_type": "code",
   "execution_count": 4,
   "metadata": {},
   "outputs": [],
   "source": [
    "# import packages\n",
    "from bs4 import BeautifulSoup as bs\n",
    "from splinter import Browser\n",
    "import time\n",
    "from config import username, password\n",
    "import datetime\n",
    "import pandas as pd\n",
    "import requests\n",
    "from webdriver_manager.chrome import ChromeDriverManager\n",
    "from collections import defaultdict"
   ]
  },
  {
   "cell_type": "code",
   "execution_count": 5,
   "metadata": {},
   "outputs": [],
   "source": [
    "# init browser\n",
    "executable_path = {'executable_path': '/Users/yangsun/Downloads/chromedriver 5'}\n",
    "browser = Browser('chrome', **executable_path, headless=False)"
   ]
  },
  {
   "cell_type": "code",
   "execution_count": 6,
   "metadata": {},
   "outputs": [],
   "source": [
    "# visit url\n",
    "login_url='https://www.glassdoor.com/profile/login_input.htm'\n",
    "browser.visit(login_url)"
   ]
  },
  {
   "cell_type": "code",
   "execution_count": 7,
   "metadata": {},
   "outputs": [],
   "source": [
    "# sign in\n",
    "browser.find_by_id('inlineUserEmail').fill(username)\n",
    "browser.find_by_id('inlineUserPassword').fill(password)\n",
    "browser.find_by_xpath('//button[@type=\"submit\"]').click()"
   ]
  },
  {
   "cell_type": "code",
   "execution_count": 8,
   "metadata": {},
   "outputs": [],
   "source": [
    "# go to new url\n",
    "url='https://www.glassdoor.com/Salary/Panda-Express-Salaries-E5659.htm'\n",
    "browser.visit(url)"
   ]
  },
  {
   "cell_type": "code",
   "execution_count": 9,
   "metadata": {},
   "outputs": [],
   "source": [
    "def select_area(area_name):\n",
    "    \"\"\"select area from selector\n",
    "    \"\"\"\n",
    "    browser.find_by_xpath('//button[@class=\"gd-ui-button d-none d-lg-inline-block css-pitbid\"]').click()\n",
    "    browser.find_by_xpath('//span[@class=\"SVGInline arrowDown\"]')[1].click()\n",
    "    browser.find_by_text(area_name).first.click()"
   ]
  },
  {
   "cell_type": "code",
   "execution_count": 29,
   "metadata": {},
   "outputs": [],
   "source": [
    "area_name='- Los Angeles, CA Area'\n",
    "select_area(area_name)\n",
    "time.sleep(2)"
   ]
  },
  {
   "cell_type": "code",
   "execution_count": 11,
   "metadata": {},
   "outputs": [
    {
     "data": {
      "text/plain": [
       "<li aria-selected=\"false\" class=\"dropdownOption\" id=\"option_N,1\" role=\"option\"><div class=\"checkmark\"><span alt=\"\" class=\"SVGInline\"><svg class=\"SVGInline-svg\" height=\"24\" viewbox=\"0 0 24 24\" width=\"24\" xmlns=\"http://www.w3.org/2000/svg\"><path d=\"M9.89 15.76l-2.64-2.363a.793.793 0 010-1.157.884.884 0 011.211 0l2.039 1.785 5.039-5.785a.884.884 0 011.21 0 .793.793 0 010 1.157L11.1 15.76a.884.884 0 01-1.21 0z\" fill=\"currentColor\" fill-rule=\"evenodd\"></path></svg></span></div><span class=\"dropdownOptionLabel css-1b6bxoo\">United States - All Cities</span></li>"
      ]
     },
     "execution_count": 11,
     "metadata": {},
     "output_type": "execute_result"
    }
   ],
   "source": [
    "html=browser.html\n",
    "soup = bs(html, 'html.parser')\n",
    "# list of locations from 23rd starting\n",
    "soup.find_all('li',class_='dropdownOption')[23]"
   ]
  },
  {
   "cell_type": "code",
   "execution_count": 82,
   "metadata": {},
   "outputs": [],
   "source": [
    "# total page number\n",
    "page=int(soup.find_all('div',class_='paginationFooter')[0].text.split(' ')[-2])"
   ]
  },
  {
   "cell_type": "code",
   "execution_count": 12,
   "metadata": {},
   "outputs": [],
   "source": [
    "# all pay list\n",
    "pay_lists=soup.find_all('div',class_='css-1u4lhyp')"
   ]
  },
  {
   "cell_type": "code",
   "execution_count": 61,
   "metadata": {},
   "outputs": [],
   "source": [
    "# only look for \n",
    "title_list = ['general manager',\n",
    "              'assistant manager',\n",
    "              'counter help',\n",
    "              'counter helper',\n",
    "              'shift leader',\n",
    "              'cook',\n",
    "              'shift lead',\n",
    "              'kitchen help',\n",
    "              'kitchen helper',\n",
    "              'lead counter',\n",
    "              'lead counter help',\n",
    "              'front of house',\n",
    "              'back of house',\n",
    "              'cashier',\n",
    "              'crew member',\n",
    "              'chef',\n",
    "              'pic',\n",
    "              'FOH team member',\n",
    "              'kitchen staff',\n",
    "              'FOH']"
   ]
  },
  {
   "cell_type": "code",
   "execution_count": 72,
   "metadata": {},
   "outputs": [],
   "source": [
    "def get_frontend_info(pay_list):\n",
    "    \"\"\"Extract front end job title information\n",
    "           - front end title\n",
    "           - avg total pay\n",
    "           - additional pay\n",
    "       Return: \n",
    "           {front end title:[avg base pay, base pay, additional pay]}\n",
    "    \"\"\"\n",
    "    # front_end_info= {front end title:[avg base pay, base pay, additional pay, Number of reported salaries]}\n",
    "    front_end_info=defaultdict(list)\n",
    "    title=pay_list.a.strong.text\n",
    "    # pay\n",
    "    pay=pay_list.span.strong.text\n",
    "    # additional pay\n",
    "    tag=pay_list.find_all('span',text='Additional Pay')\n",
    "    # check if additional pay tag exist\n",
    "    if len(tag)==0:\n",
    "        additional_pay=0\n",
    "    else:\n",
    "        additional_pay=tag[0].find_parent('div').strong.text\n",
    "    # reports\n",
    "    reports=pay_list.find_all('span',class_='css-kkqchx')[-1].text\n",
    "    front_end_info[title]=[pay,additional_pay,reports]\n",
    "    return front_end_info"
   ]
  },
  {
   "cell_type": "code",
   "execution_count": 75,
   "metadata": {},
   "outputs": [],
   "source": [
    "def next_page():\n",
    "    \"\"\"click next page button\n",
    "    \"\"\"\n",
    "    browser.find_by_xpath('//button[@class=\"nextButton css-1hq9k8 e13qs2071\"]').click()"
   ]
  },
  {
   "cell_type": "code",
   "execution_count": 87,
   "metadata": {},
   "outputs": [],
   "source": [
    "def get_current_page_info(pay_lists,res:list):\n",
    "    \"\"\"Extract current page pay information\n",
    "    \"\"\"\n",
    "    for pay_list in pay_lists:\n",
    "        title=pay_list.a.strong.text\n",
    "        if title.lower() not in title_list:\n",
    "            continue\n",
    "        # get front data\n",
    "        front_end_info=get_frontend_info(pay_list)\n",
    "        res.append(front_end_info)\n",
    "    return res"
   ]
  },
  {
   "cell_type": "code",
   "execution_count": 89,
   "metadata": {},
   "outputs": [],
   "source": [
    "# get the first 20 pages data\n",
    "final_res=[]\n",
    "for p in range(20):\n",
    "    get_current_page_info(pay_lists,final_res)"
   ]
  },
  {
   "cell_type": "code",
   "execution_count": 116,
   "metadata": {},
   "outputs": [],
   "source": [
    "# create a list for panda dataframe\n",
    "t=[list(d.keys())+list(d.values())[0] for d in final_res]"
   ]
  },
  {
   "cell_type": "code",
   "execution_count": 118,
   "metadata": {},
   "outputs": [],
   "source": [
    "import pandas as pd\n",
    "final_data=pd.DataFrame(t,columns=['title','Average total pay','additional pay','creditbility'])\n",
    "final_data.to_csv('LA,CA Panda pay.csv')"
   ]
  },
  {
   "cell_type": "code",
   "execution_count": null,
   "metadata": {},
   "outputs": [],
   "source": []
  },
  {
   "cell_type": "code",
   "execution_count": null,
   "metadata": {},
   "outputs": [],
   "source": []
  },
  {
   "cell_type": "code",
   "execution_count": 18,
   "metadata": {},
   "outputs": [],
   "source": [
    "# go to each title\n",
    "sub_url=url+pay_lists[0].a['href']\n",
    "browser.visit(sub_url)\n",
    "sub_html=browser.html"
   ]
  },
  {
   "cell_type": "code",
   "execution_count": null,
   "metadata": {},
   "outputs": [],
   "source": []
  },
  {
   "cell_type": "code",
   "execution_count": null,
   "metadata": {},
   "outputs": [],
   "source": []
  },
  {
   "cell_type": "code",
   "execution_count": null,
   "metadata": {},
   "outputs": [],
   "source": []
  },
  {
   "cell_type": "code",
   "execution_count": null,
   "metadata": {},
   "outputs": [],
   "source": []
  },
  {
   "cell_type": "code",
   "execution_count": 28,
   "metadata": {},
   "outputs": [
    {
     "data": {
      "text/plain": [
       "'Counter Help'"
      ]
     },
     "execution_count": 28,
     "metadata": {},
     "output_type": "execute_result"
    }
   ],
   "source": [
    "title=pay_lists[0].a.strong.text\n",
    "title"
   ]
  },
  {
   "cell_type": "code",
   "execution_count": null,
   "metadata": {},
   "outputs": [],
   "source": [
    "# get inside pay rate information\n",
    "def get_detailed_pay(sub_html):\n",
    "    \"\"\"Extract detailed pay rate after clicking each title in the frontend\n",
    "       Return: (dict)\n",
    "           - detailed pay\n",
    "           - additional pay\n",
    "           - Related company pay\n",
    "    \"\"\"\n",
    "    results=defaultdict(list)\n",
    "    "
   ]
  },
  {
   "cell_type": "code",
   "execution_count": null,
   "metadata": {},
   "outputs": [],
   "source": [
    "\n",
    "    "
   ]
  },
  {
   "cell_type": "code",
   "execution_count": 241,
   "metadata": {},
   "outputs": [],
   "source": []
  },
  {
   "cell_type": "code",
   "execution_count": 219,
   "metadata": {},
   "outputs": [],
   "source": [
    "# go to sub_url\n",
    "browser.visit(sub_url)\n",
    "sub_html=browser.html"
   ]
  },
  {
   "cell_type": "code",
   "execution_count": 22,
   "metadata": {},
   "outputs": [],
   "source": [
    "# based pay average and additional pay\n",
    "soup_sub=bs(sub_html,'html.parser')\n",
    "avg_base_pay=soup_sub.find_all('div',class_='col-12 col-lg-4')[0].h2.text\n",
    "additional_pay=soup_sub.find_all('div',class_='col-12 col-lg-7 d-flex align-items-baseline')[0].h2.text\n"
   ]
  },
  {
   "cell_type": "code",
   "execution_count": 24,
   "metadata": {},
   "outputs": [],
   "source": [
    "# compare with market\n",
    "market_comparison=soup_sub.find_all('strong',class_='css-1uyte9r css-1qxtz39 css-fkag2m css-ztwr07 eb8fmw1')[0].text"
   ]
  },
  {
   "cell_type": "code",
   "execution_count": 136,
   "metadata": {},
   "outputs": [],
   "source": [
    "# related salaries with others\n",
    "text='Related Salaries'\n",
    "tag=soup_sub.find(\"h3\", text=text)\n",
    "container=tag.find_parent('div')"
   ]
  },
  {
   "cell_type": "code",
   "execution_count": 148,
   "metadata": {},
   "outputs": [],
   "source": [
    "# container information\n",
    "s_c=container.find_all('div',class_='row no-gutters mx-0 py align-items-center css-1u4lhyp')\n",
    "title=s_c[0].p.a.text\n",
    "name=s_c[0].find_all('p',class_='m-0 strong')[0].text\n",
    "pay=s_c[0].find_all('strong',class_='d-block css-1djk842')[0].text"
   ]
  },
  {
   "cell_type": "code",
   "execution_count": 151,
   "metadata": {},
   "outputs": [
    {
     "data": {
      "text/plain": [
       "defaultdict(list,\n",
       "            {\"Jersey Mike's\": ['Counter Help - Hourly', '$16 - $17'],\n",
       "             'Hanmi Financial': ['Counter Help', '$44K - $47K'],\n",
       "             'Walters Wholesale Electric': ['Counter Help - Hourly',\n",
       "              '$20 - $22']})"
      ]
     },
     "execution_count": 151,
     "metadata": {},
     "output_type": "execute_result"
    }
   ],
   "source": [
    "# get all container information\n",
    "# company name, title, pay\n",
    "# related company={company name:[title, pay]}\n",
    "related_company=defaultdict(list)\n",
    "for sub in s_c:\n",
    "    # pay title\n",
    "    title=sub.p.a.text\n",
    "    # company name\n",
    "    name=sub.find_all('p',class_='m-0 strong')[0].text\n",
    "    # pay\n",
    "    pay=sub.find_all('strong',class_='d-block css-1djk842')[0].text\n",
    "    # append to list\n",
    "    related_company[name]=[title, pay]\n",
    "related_company"
   ]
  },
  {
   "cell_type": "code",
   "execution_count": 154,
   "metadata": {},
   "outputs": [],
   "source": [
    "# go back to previous url\n",
    "browser.visit(url)"
   ]
  },
  {
   "cell_type": "code",
   "execution_count": null,
   "metadata": {},
   "outputs": [],
   "source": []
  },
  {
   "cell_type": "code",
   "execution_count": null,
   "metadata": {},
   "outputs": [],
   "source": []
  },
  {
   "cell_type": "code",
   "execution_count": null,
   "metadata": {},
   "outputs": [],
   "source": []
  },
  {
   "cell_type": "code",
   "execution_count": null,
   "metadata": {},
   "outputs": [],
   "source": []
  },
  {
   "cell_type": "code",
   "execution_count": null,
   "metadata": {},
   "outputs": [],
   "source": []
  },
  {
   "cell_type": "code",
   "execution_count": null,
   "metadata": {},
   "outputs": [],
   "source": []
  }
 ],
 "metadata": {
  "kernelspec": {
   "display_name": "Python 3",
   "language": "python",
   "name": "python3"
  },
  "language_info": {
   "codemirror_mode": {
    "name": "ipython",
    "version": 3
   },
   "file_extension": ".py",
   "mimetype": "text/x-python",
   "name": "python",
   "nbconvert_exporter": "python",
   "pygments_lexer": "ipython3",
   "version": "3.7.6"
  },
  "toc": {
   "base_numbering": 1,
   "nav_menu": {},
   "number_sections": true,
   "sideBar": true,
   "skip_h1_title": false,
   "title_cell": "Table of Contents",
   "title_sidebar": "Contents",
   "toc_cell": false,
   "toc_position": {},
   "toc_section_display": true,
   "toc_window_display": false
  }
 },
 "nbformat": 4,
 "nbformat_minor": 4
}
