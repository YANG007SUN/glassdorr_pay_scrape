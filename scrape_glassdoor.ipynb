{
 "cells": [
  {
   "cell_type": "code",
   "execution_count": 149,
   "metadata": {},
   "outputs": [],
   "source": [
    "# import packages\n",
    "from bs4 import BeautifulSoup as bs\n",
    "from splinter import Browser\n",
    "from splinter.exceptions import ElementDoesNotExist\n",
    "import time\n",
    "from config import username, password\n",
    "import datetime\n",
    "import pandas as pd\n",
    "from selenium import webdriver\n",
    "import requests\n",
    "from webdriver_manager.chrome import ChromeDriverManager\n",
    "from collections import defaultdict"
   ]
  },
  {
   "cell_type": "code",
   "execution_count": 56,
   "metadata": {},
   "outputs": [],
   "source": [
    "# init browser\n",
    "executable_path = {'executable_path': '/Users/yangsun/Downloads/chromedriver 5'}\n",
    "browser = Browser('chrome', **executable_path, headless=False)"
   ]
  },
  {
   "cell_type": "code",
   "execution_count": 57,
   "metadata": {},
   "outputs": [],
   "source": [
    "# visit url\n",
    "login_url='https://www.glassdoor.com/profile/login_input.htm'\n",
    "browser.visit(login_url)"
   ]
  },
  {
   "cell_type": "code",
   "execution_count": 58,
   "metadata": {},
   "outputs": [],
   "source": [
    "# sign in\n",
    "browser.find_by_id('inlineUserEmail').fill(username)\n",
    "browser.find_by_id('inlineUserPassword').fill(password)\n",
    "browser.find_by_xpath('//button[@type=\"submit\"]').click()"
   ]
  },
  {
   "cell_type": "code",
   "execution_count": 59,
   "metadata": {},
   "outputs": [],
   "source": [
    "# go to new url\n",
    "url='https://www.glassdoor.com/Salary/Panda-Express-Salaries-E5659.htm'\n",
    "browser.visit(url)"
   ]
  },
  {
   "cell_type": "code",
   "execution_count": 213,
   "metadata": {},
   "outputs": [],
   "source": [
    "def select_area(area_name):\n",
    "    \"\"\"select area from selector\n",
    "    \"\"\"\n",
    "    browser.find_by_xpath('//button[@class=\"gd-ui-button d-none d-lg-inline-block css-pitbid\"]').click()\n",
    "    browser.find_by_xpath('//span[@class=\"SVGInline arrowDown\"]')[1].click()\n",
    "    browser.find_by_text(area_name).first.click()"
   ]
  },
  {
   "cell_type": "code",
   "execution_count": 220,
   "metadata": {},
   "outputs": [],
   "source": [
    "area_name='- Los Angeles, CA Area'\n",
    "select_area(area_name)"
   ]
  },
  {
   "cell_type": "code",
   "execution_count": 210,
   "metadata": {},
   "outputs": [],
   "source": [
    "html=browser.html\n",
    "soup = bs(html, 'html.parser')\n",
    "# list of locations from 23rd starting\n",
    "soup.find_all('li',class_='dropdownOption')[23]"
   ]
  },
  {
   "cell_type": "code",
   "execution_count": 247,
   "metadata": {},
   "outputs": [],
   "source": [
    "# all pay list\n",
    "pay_lists=soup.find_all('div',class_='css-1u4lhyp')"
   ]
  },
  {
   "cell_type": "code",
   "execution_count": 215,
   "metadata": {},
   "outputs": [],
   "source": [
    "# only look for \n",
    "title_list = ['general manager',\n",
    "              'assistant manager',\n",
    "              'counter help',\n",
    "              'counter helper',\n",
    "              'shift leader',\n",
    "              'shift lead',\n",
    "              'kitchen help',\n",
    "              'kitchen helper',\n",
    "              'lead counter',\n",
    "              'lead counter help',\n",
    "              'front of house',\n",
    "              'back of house',\n",
    "              'cashier',\n",
    "              'crew member',\n",
    "              'chef',\n",
    "              'pic',\n",
    "              'FOH team member',\n",
    "              'kitchen staff',\n",
    "              'FOH']"
   ]
  },
  {
   "cell_type": "code",
   "execution_count": 246,
   "metadata": {},
   "outputs": [],
   "source": [
    "def get_frontend_info(pay_list):\n",
    "    \"\"\"Extract front end job title information\n",
    "           - front end title\n",
    "           - avg total pay\n",
    "           - additional pay\n",
    "       Return: \n",
    "           {front end title:[avg base pay, base pay, additional pay]}\n",
    "    \"\"\"\n",
    "    # front_end_info= {front end title:[avg base pay, base pay, additional pay]}\n",
    "    front_end_info=defaultdict(list)\n",
    "    title=pay_list.a.strong.text\n",
    "    # pay\n",
    "    pay=pay_list.span.strong.text\n",
    "    # additional pay\n",
    "    tag=pay_list.find_all('span',text='Additional Pay')\n",
    "    # check if additional pay tag exist\n",
    "    if len(tag)==0:\n",
    "        additional_pay=0\n",
    "    additional_pay=tag[0].find_parent('div').strong.text\n",
    "    front_end_info[title]=[pay,additional_pay]\n",
    "    return front_end_info"
   ]
  },
  {
   "cell_type": "code",
   "execution_count": null,
   "metadata": {},
   "outputs": [],
   "source": [
    "\n",
    "for pay_list in pay_lists:\n",
    "    title=pay_list.a.strong.text\n",
    "    if title not in title_list:\n",
    "        continue\n",
    "    # get front data\n",
    "    \n",
    "    pay_list.span.strong.text\n",
    "    sub_url=url+pay_list[0].a['href']\n",
    "    # go to sub_url\n",
    "    browser.visit(sub_url)\n",
    "    sub_html=browser.html\n",
    "    "
   ]
  },
  {
   "cell_type": "code",
   "execution_count": 241,
   "metadata": {},
   "outputs": [],
   "source": []
  },
  {
   "cell_type": "code",
   "execution_count": 237,
   "metadata": {},
   "outputs": [
    {
     "data": {
      "text/plain": [
       "'$0'"
      ]
     },
     "execution_count": 237,
     "metadata": {},
     "output_type": "execute_result"
    }
   ],
   "source": [
    "tag=pay_list[0].find_all('span',text='Additional Pay')\n",
    "tag[0].find_parent('div').strong.text"
   ]
  },
  {
   "cell_type": "code",
   "execution_count": 216,
   "metadata": {},
   "outputs": [
    {
     "data": {
      "text/plain": [
       "'Counter Help'"
      ]
     },
     "execution_count": 216,
     "metadata": {},
     "output_type": "execute_result"
    }
   ],
   "source": [
    "# find job title\n",
    "pay_list[0].a.strong.text"
   ]
  },
  {
   "cell_type": "code",
   "execution_count": 217,
   "metadata": {},
   "outputs": [
    {
     "data": {
      "text/plain": [
       "'$14'"
      ]
     },
     "execution_count": 217,
     "metadata": {},
     "output_type": "execute_result"
    }
   ],
   "source": [
    "# find pay\n",
    "pay_list[0].span.strong.text"
   ]
  },
  {
   "cell_type": "code",
   "execution_count": 218,
   "metadata": {},
   "outputs": [],
   "source": [
    "# sub_url\n",
    "sub_url=url+pay_list[0].a['href']"
   ]
  },
  {
   "cell_type": "code",
   "execution_count": 219,
   "metadata": {},
   "outputs": [],
   "source": [
    "# go to sub_url\n",
    "browser.visit(sub_url)\n",
    "sub_html=browser.html"
   ]
  },
  {
   "cell_type": "code",
   "execution_count": 112,
   "metadata": {},
   "outputs": [
    {
     "data": {
      "text/plain": [
       "'$29,400'"
      ]
     },
     "execution_count": 112,
     "metadata": {},
     "output_type": "execute_result"
    }
   ],
   "source": [
    "# based pay average and additional pay\n",
    "soup_sub=bs(sub_html,'html.parser')\n",
    "avg_base_pay=soup_sub.find_all('div',class_='col-12 col-lg-4')[0].h2.text\n",
    "additional_pay=soup_sub.find_all('div',class_='col-12 col-lg-7 d-flex align-items-baseline')[0].h2.text"
   ]
  },
  {
   "cell_type": "code",
   "execution_count": 121,
   "metadata": {},
   "outputs": [],
   "source": [
    "# compare with market\n",
    "market_comparison=soup_sub.find_all('strong',class_='css-1uyte9r css-1qxtz39 css-fkag2m css-ztwr07 eb8fmw1')[0].text"
   ]
  },
  {
   "cell_type": "code",
   "execution_count": 136,
   "metadata": {},
   "outputs": [],
   "source": [
    "# related salaries with others\n",
    "text='Related Salaries'\n",
    "tag=soup_sub.find(\"h3\", text=text)\n",
    "container=tag.find_parent('div')"
   ]
  },
  {
   "cell_type": "code",
   "execution_count": 148,
   "metadata": {},
   "outputs": [],
   "source": [
    "# container information\n",
    "s_c=container.find_all('div',class_='row no-gutters mx-0 py align-items-center css-1u4lhyp')\n",
    "title=s_c[0].p.a.text\n",
    "name=s_c[0].find_all('p',class_='m-0 strong')[0].text\n",
    "pay=s_c[0].find_all('strong',class_='d-block css-1djk842')[0].text"
   ]
  },
  {
   "cell_type": "code",
   "execution_count": 151,
   "metadata": {},
   "outputs": [
    {
     "data": {
      "text/plain": [
       "defaultdict(list,\n",
       "            {\"Jersey Mike's\": ['Counter Help - Hourly', '$16 - $17'],\n",
       "             'Hanmi Financial': ['Counter Help', '$44K - $47K'],\n",
       "             'Walters Wholesale Electric': ['Counter Help - Hourly',\n",
       "              '$20 - $22']})"
      ]
     },
     "execution_count": 151,
     "metadata": {},
     "output_type": "execute_result"
    }
   ],
   "source": [
    "# get all container information\n",
    "# company name, title, pay\n",
    "# related company={company name:[title, pay]}\n",
    "related_company=defaultdict(list)\n",
    "for sub in s_c:\n",
    "    # pay title\n",
    "    title=sub.p.a.text\n",
    "    # company name\n",
    "    name=sub.find_all('p',class_='m-0 strong')[0].text\n",
    "    # pay\n",
    "    pay=sub.find_all('strong',class_='d-block css-1djk842')[0].text\n",
    "    # append to list\n",
    "    related_company[name]=[title, pay]\n",
    "related_company"
   ]
  },
  {
   "cell_type": "code",
   "execution_count": 154,
   "metadata": {},
   "outputs": [],
   "source": [
    "# go back to previous url\n",
    "browser.visit(url)"
   ]
  },
  {
   "cell_type": "code",
   "execution_count": null,
   "metadata": {},
   "outputs": [],
   "source": []
  },
  {
   "cell_type": "code",
   "execution_count": null,
   "metadata": {},
   "outputs": [],
   "source": []
  },
  {
   "cell_type": "code",
   "execution_count": null,
   "metadata": {},
   "outputs": [],
   "source": []
  },
  {
   "cell_type": "code",
   "execution_count": null,
   "metadata": {},
   "outputs": [],
   "source": []
  },
  {
   "cell_type": "code",
   "execution_count": null,
   "metadata": {},
   "outputs": [],
   "source": []
  },
  {
   "cell_type": "code",
   "execution_count": null,
   "metadata": {},
   "outputs": [],
   "source": []
  }
 ],
 "metadata": {
  "kernelspec": {
   "display_name": "Python 3",
   "language": "python",
   "name": "python3"
  },
  "language_info": {
   "codemirror_mode": {
    "name": "ipython",
    "version": 3
   },
   "file_extension": ".py",
   "mimetype": "text/x-python",
   "name": "python",
   "nbconvert_exporter": "python",
   "pygments_lexer": "ipython3",
   "version": "3.7.6"
  },
  "toc": {
   "base_numbering": 1,
   "nav_menu": {},
   "number_sections": true,
   "sideBar": true,
   "skip_h1_title": false,
   "title_cell": "Table of Contents",
   "title_sidebar": "Contents",
   "toc_cell": false,
   "toc_position": {},
   "toc_section_display": true,
   "toc_window_display": false
  }
 },
 "nbformat": 4,
 "nbformat_minor": 4
}
